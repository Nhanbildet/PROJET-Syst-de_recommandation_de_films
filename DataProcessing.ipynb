{
 "cells": [
  {
   "cell_type": "code",
   "execution_count": 1,
   "metadata": {},
   "outputs": [],
   "source": [
    "import pandas as pd"
   ]
  },
  {
   "cell_type": "code",
   "execution_count": null,
   "metadata": {},
   "outputs": [],
   "source": [
    "# prendre le minimum de colonne pour faciliter le chargement du DF\n",
    "df_principals = pd.read_csv(\"title.principals.tsv.gz\", sep = \"\\t\", usecols=['tconst', 'nconst', 'category'])\n",
    "print('Chargement df_principals OK')\n",
    "df_name = pd.read_csv(\"name.basics.tsv.gz\", sep = \"\\t\", usecols=['nconst', 'primaryName'])\n",
    "print('Chargement df_name OK')\n",
    "df_basics = pd.read_csv(\"title.basics.tsv.gz\", sep = \"\\t\", usecols=[\"tconst\", \"titleType\", \"runtimeMinutes\", \"startYear\", \"primaryTitle\", \"isAdult\", \"genres\"])\n",
    "print('Chargement df_basics OK')\n",
    "df_ratings = pd.read_csv(\"title.ratings.tsv.gz\", sep = \"\\t\")\n",
    "print('Chargement df_ratings OK')\n",
    "df_akas = pd.read_csv(\"title.akas.tsv.gz\", sep = \"\\t\", usecols =(\"titleId\", \"title\", \"region\", \"language\"))\n",
    "print('Chargement df_akas OK')\n",
    "df_tmdb = pd.read_csv(\"tmdb_full.csv\", sep = \",\", usecols=['backdrop_path', 'budget', 'homepage', 'id', 'imdb_id', 'popularity', 'poster_path', 'revenue', 'title', 'vote_average', 'vote_count'])\n",
    "print('Chargement df_tmdb OK')"
   ]
  },
  {
   "cell_type": "code",
   "execution_count": null,
   "metadata": {},
   "outputs": [],
   "source": [
    "# Merge mutliple sur la totalité des DF nécessaires aux éléments statistiques\n",
    "\n",
    "movie_stats=pd.merge\\\n",
    "            (pd.merge # 4ème merge : le 3ème avec TMDB\n",
    "                (pd.merge # 3ème merge : le 2nd avec ratings\n",
    "                    (pd.merge # 2nd merge : le 1er avec name\n",
    "                        (pd.merge # 1er merge : principals avec basics\n",
    "                            (left=df_principals.loc[df_principals[\"category\"].isin([\"actor\", \"actress\", \"director\", \"writer\"])], # uniquement les acteurs/trices, réalisateurs, et scénaristes \n",
    "                            right=df_basics.loc[df_basics[\"titleType\"].isin([\"movie\", \"tvSeries\"])], # uniquement movie et tvSeries\n",
    "                            how=\"inner\",\n",
    "                            left_on=\"tconst\",\n",
    "                            right_on=\"tconst\"),\n",
    "                        df_name,\n",
    "                        how=\"inner\",\n",
    "                        left_on=\"nconst\",\n",
    "                        right_on=\"nconst\"),\n",
    "                    df_ratings,\n",
    "                    how=\"left\",\n",
    "                    left_on='tconst',\n",
    "                    right_on='tconst'),\n",
    "                df_akas[df_akas['region'] == ('FR')], # uniquement sur la région de diffusion \"FR\"\n",
    "                how=\"inner\",\n",
    "                left_on=\"tconst\",\n",
    "                right_on='titleId'),\n",
    "            df_tmdb,\n",
    "            how=\"left\",\n",
    "            left_on=\"tconst\",\n",
    "            right_on=\"imdb_id\")\n",
    "            \n",
    "print('Merge des bases OK')"
   ]
  },
  {
   "cell_type": "code",
   "execution_count": null,
   "metadata": {},
   "outputs": [],
   "source": [
    "# compléter les valeurs nulles d'averageRating avec celle de vote_average quand c'est possible\n",
    "movie_stats['averageRating'] = movie_stats['averageRating'].fillna(movie_stats['vote_average'])\n",
    "\n",
    "# compléter les valeurs nulles de numVotes avec celles de vote_count quand c'est possible\n",
    "movie_stats['numVotes'] = movie_stats['numVotes'].fillna(movie_stats['vote_count'])\n",
    "print('Complétion des valeurs IMDB par TMDB OK')"
   ]
  },
  {
   "cell_type": "code",
   "execution_count": null,
   "metadata": {},
   "outputs": [],
   "source": [
    "# supprimer les lignes quand vote_average et averageRating sont vides\n",
    "movie_stats.drop(movie_stats[(movie_stats['vote_average'].isna()) & (movie_stats['averageRating'].isna())].index, inplace=True)\n",
    "print('Suppression des lignes vides de vote_average et averageRating Ok')\n",
    "\n",
    "# Supprimer les colonnes devenues inutiles\n",
    "movie_stats.drop(columns=['primaryTitle', 'title_y', 'imdb_id', 'vote_average', 'vote_count'], inplace=True)\n",
    "print('Suppression des colonnes inutiles OK')\n",
    "\n",
    "# basculer les colonnes en numérique et remplacer les \\\\N par 0 pour pouvoir traiter du numérique dans les stats\n",
    "movie_stats['startYear'] = pd.to_numeric(movie_stats['startYear'].replace('\\\\N', 0)).astype('int16')\n",
    "movie_stats['runtimeMinutes'] = pd.to_numeric(movie_stats['runtimeMinutes'].replace('\\\\N', 0)).astype('int16')\n",
    "print('Bascule colonne en numérique OK')"
   ]
  },
  {
   "cell_type": "code",
   "execution_count": null,
   "metadata": {},
   "outputs": [],
   "source": [
    "# renommer colonne \"title_x\" en \"title\"\n",
    "movie_stats.rename(columns={\"title_x\": \"title\"}, inplace=True)\n",
    "print('Renommage colonne title OK')\n",
    "\n",
    "# suppression des doublons\n",
    "movie_stats.drop_duplicates(inplace=True)\n",
    "print('Suppression des doublons OK')\n",
    "\n",
    "# rassembler les nconst en list par category (actor, actress, director, writer)\n",
    "groupby_nconst = (\n",
    "    movie_stats.groupby([\"tconst\", \"category\"])\n",
    "    .agg({\"nconst\": list})  # Agréger les noms dans une liste\n",
    "    .unstack(\"category\")\n",
    "    .add_suffix('_nconst')# Séparer par catégorie\n",
    "    .fillna(\"\")  # Remplacer les NaN par des chaînes vides\n",
    ")\n",
    "print('Group By nconst OK')"
   ]
  },
  {
   "cell_type": "code",
   "execution_count": null,
   "metadata": {},
   "outputs": [],
   "source": [
    "# rassembler les primaryName en list par category (actor, actress, director, writer)\n",
    "groupby_name = (\n",
    "    movie_stats.groupby([\"tconst\", \"category\"])\n",
    "    .agg({\"primaryName\": list})  # Agréger les noms dans une liste\n",
    "    .unstack(\"category\")\n",
    "    .add_suffix('_name')# Séparer par catégorie\n",
    "    .fillna(\"\")  # Remplacer les NaN par des chaînes vides\n",
    ")\n",
    "print('Group By name OK')0"
   ]
  },
  {
   "cell_type": "code",
   "execution_count": null,
   "metadata": {},
   "outputs": [],
   "source": [
    "# merger les 2 précédents\n",
    "groupby_merged = pd.merge(left=groupby_nconst,\n",
    "                right=groupby_name,\n",
    "                how='inner',\n",
    "                left_on='tconst',\n",
    "                right_on='tconst')\n",
    "print('Merge des groupby OK')\n",
    "\n",
    "# ok pour supprimer niveau 1 colonne\n",
    "groupby_merged.columns = groupby_merged.columns.droplevel()\n",
    "\n",
    "# merger l'ensemble pour obtenir le DF final\n",
    "movie_stats = pd.merge(left=movie_stats,\n",
    "                  right=groupby_merged,\n",
    "                  how='left',\n",
    "                  left_on='tconst',\n",
    "                  right_on='tconst'\n",
    "                  )\n",
    "print('Merge final OK')"
   ]
  },
  {
   "cell_type": "code",
   "execution_count": null,
   "metadata": {},
   "outputs": [],
   "source": [
    "# supprimer les colonnes devenues inutiles\n",
    "movie_stats = movie_stats.drop(columns=['nconst', 'category', 'primaryName'])\n",
    "print('Suppression des colonnes inutiles OK')\n",
    "\n",
    "# enfin, supprimer les tconst en doublons pour alléger le DF\n",
    "movie_stats.drop_duplicates(subset='tconst', inplace=True)\n",
    "print('Suppression des doublons OK')"
   ]
  },
  {
   "cell_type": "code",
   "execution_count": null,
   "metadata": {},
   "outputs": [],
   "source": [
    "# convertir les colonnes de type liste en str pour faciliter la recherche\n",
    "movie_stats['actor_name'] = movie_stats['actor_name'].apply(lambda x: ','.join(x))\n",
    "movie_stats['actress_name'] = movie_stats['actress_name'].apply(lambda x: ','.join(x))\n",
    "movie_stats['director_name'] = movie_stats['director_name'].apply(lambda x: ','.join(x))\n",
    "movie_stats['writer_name'] = movie_stats['writer_name'].apply(lambda x: ','.join(x))\n",
    "movie_stats['actor_nconst'] = movie_stats['actor_nconst'].apply(lambda x: ','.join(x))\n",
    "movie_stats['actress_nconst'] = movie_stats['actress_nconst'].apply(lambda x: ','.join(x))\n",
    "movie_stats['director_nconst'] = movie_stats['director_nconst'].apply(lambda x: ','.join(x))\n",
    "movie_stats['writer_nconst'] = movie_stats['writer_nconst'].apply(lambda x: ','.join(x))\n",
    "print('Conversion des listes en str OK')\n",
    "\n",
    "movie_stats.to_csv(\"movie_stats.csv\", index=False)\n",
    "print('Conversion de movie_stats en .csv OK')\n",
    "\n",
    "movie_stats.head(3)"
   ]
  }
 ],
 "metadata": {
  "kernelspec": {
   "display_name": "Python 3",
   "language": "python",
   "name": "python3"
  },
  "language_info": {
   "codemirror_mode": {
    "name": "ipython",
    "version": 3
   },
   "file_extension": ".py",
   "mimetype": "text/x-python",
   "name": "python",
   "nbconvert_exporter": "python",
   "pygments_lexer": "ipython3",
   "version": "3.11.9"
  }
 },
 "nbformat": 4,
 "nbformat_minor": 2
}
